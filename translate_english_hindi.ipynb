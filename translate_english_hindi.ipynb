{
 "cells": [
  {
   "cell_type": "code",
   "execution_count": 42,
   "metadata": {},
   "outputs": [],
   "source": [
    "# Calling the Functions from desired Library\n",
    "\n",
    "import numpy as np\n",
    "import pandas as pd\n",
    "import matplotlib.pyplot as plt\n",
    "import re\n",
    "from sklearn.utils import shuffle\n",
    "from tensorflow.keras.preprocessing.sequence import pad_sequences\n",
    "from tensorflow.keras.models import Sequential\n",
    "from tensorflow.keras.preprocessing .text import Tokenizer\n",
    "from tensorflow.keras.layers import Dense,Activation,Bidirectional,Input,Embedding,LSTM\n",
    "from tensorflow.keras.models import Model  "
   ]
  },
  {
   "cell_type": "code",
   "execution_count": 57,
   "metadata": {},
   "outputs": [
    {
     "data": {
      "application/vnd.microsoft.datawrangler.viewer.v0+json": {
       "columns": [
        {
         "name": "index",
         "rawType": "int64",
         "type": "integer"
        },
        {
         "name": "hindi",
         "rawType": "object",
         "type": "string"
        },
        {
         "name": "english",
         "rawType": "object",
         "type": "string"
        }
       ],
       "conversionMethod": "pd.DataFrame",
       "ref": "54424ea2-851c-477b-8779-942324106a37",
       "rows": [
        [
         "0",
         "अपने अनुप्रयोग को पहुंचनीयता व्यायाम का लाभ दें",
         "Give your application an accessibility workout"
        ],
        [
         "1",
         "एक्सेर्साइसर पहुंचनीयता अन्वेषक",
         "Accerciser Accessibility Explorer"
        ],
        [
         "2",
         "निचले पटल के लिए डिफोल्ट प्लग-इन खाका",
         "The default plugin layout for the bottom panel"
        ],
        [
         "3",
         "ऊपरी पटल के लिए डिफोल्ट प्लग-इन खाका",
         "The default plugin layout for the top panel"
        ],
        [
         "4",
         "उन प्लग-इनों की सूची जिन्हें डिफोल्ट रूप से निष्क्रिय किया गया है",
         "A list of plugins that are disabled by default"
        ]
       ],
       "shape": {
        "columns": 2,
        "rows": 5
       }
      },
      "text/html": [
       "<div>\n",
       "<style scoped>\n",
       "    .dataframe tbody tr th:only-of-type {\n",
       "        vertical-align: middle;\n",
       "    }\n",
       "\n",
       "    .dataframe tbody tr th {\n",
       "        vertical-align: top;\n",
       "    }\n",
       "\n",
       "    .dataframe thead th {\n",
       "        text-align: right;\n",
       "    }\n",
       "</style>\n",
       "<table border=\"1\" class=\"dataframe\">\n",
       "  <thead>\n",
       "    <tr style=\"text-align: right;\">\n",
       "      <th></th>\n",
       "      <th>hindi</th>\n",
       "      <th>english</th>\n",
       "    </tr>\n",
       "  </thead>\n",
       "  <tbody>\n",
       "    <tr>\n",
       "      <th>0</th>\n",
       "      <td>अपने अनुप्रयोग को पहुंचनीयता व्यायाम का लाभ दें</td>\n",
       "      <td>Give your application an accessibility workout</td>\n",
       "    </tr>\n",
       "    <tr>\n",
       "      <th>1</th>\n",
       "      <td>एक्सेर्साइसर पहुंचनीयता अन्वेषक</td>\n",
       "      <td>Accerciser Accessibility Explorer</td>\n",
       "    </tr>\n",
       "    <tr>\n",
       "      <th>2</th>\n",
       "      <td>निचले पटल के लिए डिफोल्ट प्लग-इन खाका</td>\n",
       "      <td>The default plugin layout for the bottom panel</td>\n",
       "    </tr>\n",
       "    <tr>\n",
       "      <th>3</th>\n",
       "      <td>ऊपरी पटल के लिए डिफोल्ट प्लग-इन खाका</td>\n",
       "      <td>The default plugin layout for the top panel</td>\n",
       "    </tr>\n",
       "    <tr>\n",
       "      <th>4</th>\n",
       "      <td>उन प्लग-इनों की सूची जिन्हें डिफोल्ट रूप से नि...</td>\n",
       "      <td>A list of plugins that are disabled by default</td>\n",
       "    </tr>\n",
       "  </tbody>\n",
       "</table>\n",
       "</div>"
      ],
      "text/plain": [
       "                                               hindi  \\\n",
       "0    अपने अनुप्रयोग को पहुंचनीयता व्यायाम का लाभ दें   \n",
       "1                    एक्सेर्साइसर पहुंचनीयता अन्वेषक   \n",
       "2              निचले पटल के लिए डिफोल्ट प्लग-इन खाका   \n",
       "3               ऊपरी पटल के लिए डिफोल्ट प्लग-इन खाका   \n",
       "4  उन प्लग-इनों की सूची जिन्हें डिफोल्ट रूप से नि...   \n",
       "\n",
       "                                          english  \n",
       "0  Give your application an accessibility workout  \n",
       "1               Accerciser Accessibility Explorer  \n",
       "2  The default plugin layout for the bottom panel  \n",
       "3     The default plugin layout for the top panel  \n",
       "4  A list of plugins that are disabled by default  "
      ]
     },
     "execution_count": 57,
     "metadata": {},
     "output_type": "execute_result"
    }
   ],
   "source": [
    "# Calling the Dataset\n",
    "df = pd.read_csv(r\"D:\\Visual Studio Code\\ML\\DataSet\\Language Translation\\English-Hindi Language\\hindi_english_parallel.csv\")\n",
    "df.head()"
   ]
  },
  {
   "cell_type": "code",
   "execution_count": 58,
   "metadata": {},
   "outputs": [
    {
     "data": {
      "text/plain": [
       "1561841"
      ]
     },
     "execution_count": 58,
     "metadata": {},
     "output_type": "execute_result"
    }
   ],
   "source": [
    "# Checking the Len of Dataset\n",
    "len(df)"
   ]
  },
  {
   "cell_type": "code",
   "execution_count": 59,
   "metadata": {},
   "outputs": [
    {
     "data": {
      "text/plain": [
       "hindi      6057\n",
       "english     877\n",
       "dtype: int64"
      ]
     },
     "execution_count": 59,
     "metadata": {},
     "output_type": "execute_result"
    }
   ],
   "source": [
    "# Checking for Null Values\n",
    "df.isnull().sum()"
   ]
  },
  {
   "cell_type": "code",
   "execution_count": 60,
   "metadata": {},
   "outputs": [],
   "source": [
    "# Droping the Null value and Removing that row \n",
    "df.dropna(inplace=True)\n",
    "data = df.reset_index(drop=True)"
   ]
  },
  {
   "cell_type": "code",
   "execution_count": 61,
   "metadata": {},
   "outputs": [
    {
     "data": {
      "text/plain": [
       "hindi      0\n",
       "english    0\n",
       "dtype: int64"
      ]
     },
     "execution_count": 61,
     "metadata": {},
     "output_type": "execute_result"
    }
   ],
   "source": [
    "# Checking for null values again \n",
    "df.isnull().sum()"
   ]
  },
  {
   "cell_type": "code",
   "execution_count": 62,
   "metadata": {},
   "outputs": [
    {
     "data": {
      "text/plain": [
       "1555574"
      ]
     },
     "execution_count": 62,
     "metadata": {},
     "output_type": "execute_result"
    }
   ],
   "source": [
    "# Checking the number of data decrease\n",
    "len(df)"
   ]
  },
  {
   "cell_type": "code",
   "execution_count": 63,
   "metadata": {},
   "outputs": [
    {
     "data": {
      "text/plain": [
       "0             Give your application an accessibility workout\n",
       "1                          Accerciser Accessibility Explorer\n",
       "2             The default plugin layout for the bottom panel\n",
       "3                The default plugin layout for the top panel\n",
       "4             A list of plugins that are disabled by default\n",
       "                                 ...                        \n",
       "1561835                  शपथ लेने/प्रतिज्ञान करने वाले सदस्य\n",
       "1561836    स्पष्टीकरण.–जहां इस उपधारा के अधीन हानि और लाभ...\n",
       "1561837    है। I note that this is a landmark meeting – n...\n",
       "1561838    है। In the presentations that they made before...\n",
       "1561839    ्त है। Issues such as food and water security;...\n",
       "Name: english, Length: 1555574, dtype: object"
      ]
     },
     "execution_count": 63,
     "metadata": {},
     "output_type": "execute_result"
    }
   ],
   "source": [
    "# Viewing the English Col in Data\n",
    "df['english']"
   ]
  },
  {
   "cell_type": "code",
   "execution_count": 64,
   "metadata": {},
   "outputs": [],
   "source": [
    "# Remove Hindi Sentances from the Enlish Col \n",
    "\n",
    "def contains_Hindi(text):\n",
    "    if isinstance(text,str):\n",
    "        return bool(re.search(r'[\\u0900-\\u097F]',text))\n",
    "    return False\n",
    "df_filtered=df[~df['english'].apply(contains_Hindi)].reset_index(drop=True)"
   ]
  },
  {
   "cell_type": "code",
   "execution_count": 65,
   "metadata": {},
   "outputs": [],
   "source": [
    "# Processing the Data\n",
    "\n",
    "Embedding_dim = 200  \n",
    "Latent_dim =400\n",
    "max_seq_len = 100\n",
    "max_vocab_size = 20000"
   ]
  },
  {
   "cell_type": "code",
   "execution_count": 66,
   "metadata": {},
   "outputs": [],
   "source": [
    "# As the Data size is large we will work with 200000 sentances\n",
    "\n",
    "# As the data size is large we will work with 20000 sentences\n",
    "input_text=[]\n",
    "target_text=[]\n",
    "target_text_input=[]\n",
    "translation=[]\n",
    "i=19999\n",
    "for j,t in enumerate(df['english']):\n",
    "    input_text.append(t)\n",
    "    if j==i:\n",
    "        j=0\n",
    "        break\n",
    "for j,t in enumerate(df['hindi']):\n",
    "    translation.append(t)\n",
    "    target_text.append(t+' <eos>')\n",
    "    target_text_input.append('<sos> '+t)\n",
    "    if j==i:\n",
    "        break"
   ]
  },
  {
   "cell_type": "code",
   "execution_count": 67,
   "metadata": {},
   "outputs": [],
   "source": [
    "# Input data ready\n",
    "\n",
    "tokenizer_input = Tokenizer(num_words=max_vocab_size)\n",
    "tokenizer_input.fit_on_texts(input_text)\n",
    "tokenized_input = tokenizer_input.texts_to_sequences(input_text)"
   ]
  },
  {
   "cell_type": "code",
   "execution_count": 68,
   "metadata": {},
   "outputs": [
    {
     "name": "stdout",
     "output_type": "stream",
     "text": [
      "word2idx length: 2036\n"
     ]
    }
   ],
   "source": [
    "# Length of Word Token\n",
    "word2idx=tokenizer_input.word_index\n",
    "print('word2idx length:',len(word2idx))"
   ]
  },
  {
   "cell_type": "code",
   "execution_count": 70,
   "metadata": {},
   "outputs": [],
   "source": [
    "# Output data ready \n",
    "\n",
    "tokenizer_output=Tokenizer(num_words=max_vocab_size,filters='')\n",
    "tokenizer_output.fit_on_texts(target_text_input+target_text)\n",
    "tokenized_target=tokenizer_output.texts_to_sequences(target_text)              #target output\n",
    "tokenized_target_input=tokenizer_output.texts_to_sequences(target_text_input) "
   ]
  },
  {
   "cell_type": "code",
   "execution_count": 72,
   "metadata": {},
   "outputs": [
    {
     "name": "stdout",
     "output_type": "stream",
     "text": [
      "length of word2idx output: 2936\n"
     ]
    }
   ],
   "source": [
    "word2idx_output=tokenizer_output.word_index\n",
    "print('length of word2idx output:',len(word2idx_output))\n",
    "num_words_output=len(word2idx_output)+1"
   ]
  },
  {
   "cell_type": "code",
   "execution_count": 73,
   "metadata": {},
   "outputs": [
    {
     "name": "stdout",
     "output_type": "stream",
     "text": [
      "Encoder input shape= (20000, 100)\n"
     ]
    }
   ],
   "source": [
    "# Input \n",
    "encoder_input=pad_sequences(tokenized_input,maxlen=max_seq_len)\n",
    "print('Encoder input shape=',encoder_input.shape)"
   ]
  },
  {
   "cell_type": "code",
   "execution_count": 74,
   "metadata": {},
   "outputs": [
    {
     "name": "stdout",
     "output_type": "stream",
     "text": [
      "decoder input shape: (20000, 100)\n"
     ]
    }
   ],
   "source": [
    "# Decoder output as input for teacher forcing\n",
    "decoder_input=pad_sequences(tokenized_target_input,maxlen=max_seq_len,padding='post')\n",
    "print('decoder input shape:',decoder_input.shape)"
   ]
  },
  {
   "cell_type": "code",
   "execution_count": 75,
   "metadata": {},
   "outputs": [
    {
     "name": "stdout",
     "output_type": "stream",
     "text": [
      "decoder output shape: (20000, 100)\n"
     ]
    }
   ],
   "source": [
    "# Target Ouput\n",
    "decoder_output=pad_sequences(tokenized_target,maxlen=max_seq_len,padding='post')\n",
    "print('decoder output shape:',decoder_output.shape)"
   ]
  },
  {
   "cell_type": "markdown",
   "metadata": {},
   "source": [
    "\n",
    "Word2Vec has two main flavors: Continuous Bag of Words (CBOW) and Skip-gram.\n",
    "\n",
    "- CBOW is like a puzzle where you predict the missing word based on the surrounding words. For example, if you see the sentence “The cat sat on the ___,” CBOW predicts “mat” by looking at “cat,” “sat,” and “on.”\n",
    "\n",
    "\n",
    "- On the flip side, Skip-gram does the reverse. You start with a word like “dog” and try to predict the words that often appear around it, like “barks” or “leash.”"
   ]
  },
  {
   "cell_type": "code",
   "execution_count": 76,
   "metadata": {},
   "outputs": [
    {
     "name": "stdout",
     "output_type": "stream",
     "text": [
      "Length of word vector = 400000\n"
     ]
    }
   ],
   "source": [
    "# Calling the Word2Vec Model\n",
    "import numpy as np\n",
    "\n",
    "word_vec = {}\n",
    "\n",
    "# Use a raw string (r\"...\") or double backslashes (\\\\) to avoid escape issues\n",
    "file_path = r\"D:\\Visual Studio Code\\ML\\Code_Work\\glove.6B.200d.txt\"\n",
    "\n",
    "with open(file_path, encoding='utf-8') as f:\n",
    "    for line in f:\n",
    "        values = line.split()\n",
    "        word = values[0]  # First word is the actual word\n",
    "        vector = np.asarray(values[1:], dtype='float32')  # Convert the rest to a NumPy array\n",
    "        word_vec[word] = vector  # Store in dictionary\n",
    "\n",
    "print('Length of word vector =', len(word_vec))\n"
   ]
  },
  {
   "cell_type": "code",
   "execution_count": 77,
   "metadata": {},
   "outputs": [
    {
     "name": "stdout",
     "output_type": "stream",
     "text": [
      "shape of word_embedding: (2037, 200)\n"
     ]
    }
   ],
   "source": [
    "#creating count matrix\n",
    "num_words=min(max_vocab_size,len(word2idx)+1)\n",
    "word_embedding=np.zeros((num_words,Embedding_dim))\n",
    "for word,i in word2idx.items():\n",
    "    if i<max_vocab_size:\n",
    "        vec=word_vec.get(word)\n",
    "        if vec is not None:\n",
    "            word_embedding[i]=vec\n",
    "print('shape of word_embedding:',word_embedding.shape)"
   ]
  },
  {
   "cell_type": "code",
   "execution_count": 78,
   "metadata": {},
   "outputs": [],
   "source": [
    "# Embedding Layer Input \n",
    "\n",
    "embedding_layer_input=Embedding(num_words, # This layer convert the input words into dense vector of fixed size.\n",
    "                          Embedding_dim,\n",
    "                          weights=[word_embedding],\n",
    "                          trainable=False)"
   ]
  },
  {
   "cell_type": "markdown",
   "metadata": {},
   "source": [
    "# Defining the Architecture of the Model"
   ]
  },
  {
   "cell_type": "code",
   "execution_count": 79,
   "metadata": {},
   "outputs": [],
   "source": [
    "#Encoder\n",
    "encoder_input_placeholder=Input(shape=(max_seq_len,)) # This create placeholder for encoder input\n",
    "x=embedding_layer_input(encoder_input_placeholder) # In this embedding layer convert input token IDs into dense vectors of a fixed size.\n",
    "encoder_lstm=LSTM(Latent_dim,return_state=True) # This is LSTM model where it create with Latent Dim and return state is true\n",
    "encoder_output,h,c=encoder_lstm(x) # Here all the return value are stored like The output, hidden state and Cell state\n",
    "encoder_states=[h,c] # They are store in Encoder State"
   ]
  },
  {
   "cell_type": "code",
   "execution_count": 80,
   "metadata": {},
   "outputs": [],
   "source": [
    "\n",
    "#Decoder\n",
    "decoder_input_placeholder=Input(shape=(max_seq_len,)) # Here we create Place Holder for input taking max_seq length\n",
    "decoder_embedding=Embedding(num_words_output,Embedding_dim) # Embedding layer into dense vertors\n",
    "x=decoder_embedding(decoder_input_placeholder) # It is storing the embedded value of Decoder input\n",
    "decoder_lstm=LSTM(Latent_dim,return_state=True,return_sequences=True) # This is the LSTM Layer\n",
    "decoder_outputs,_,_=decoder_lstm(x,initial_state=encoder_states) # We are only taking decoder Output discarding Hidden State and Cell\n",
    "decoder_dense=Dense(num_words_output,activation='softmax') # We are creating the Dense Layer for storing Information\n",
    "decoder_outputs=decoder_dense(decoder_outputs) # It give final probability distribution over words."
   ]
  },
  {
   "cell_type": "code",
   "execution_count": 81,
   "metadata": {},
   "outputs": [],
   "source": [
    "# Creating the Model\n",
    "\n",
    "model=Model([encoder_input_placeholder,decoder_input_placeholder],      # Teacher Forcing\n",
    "            decoder_outputs)"
   ]
  },
  {
   "cell_type": "code",
   "execution_count": 82,
   "metadata": {},
   "outputs": [],
   "source": [
    "# Compiling the Model\n",
    "\n",
    "model.compile(loss='sparse_categorical_crossentropy',optimizer='adam',metrics=['accuracy'])"
   ]
  },
  {
   "cell_type": "code",
   "execution_count": 83,
   "metadata": {},
   "outputs": [
    {
     "name": "stdout",
     "output_type": "stream",
     "text": [
      "Epoch 1/10\n"
     ]
    },
    {
     "name": "stdout",
     "output_type": "stream",
     "text": [
      "\u001b[1m250/250\u001b[0m \u001b[32m━━━━━━━━━━━━━━━━━━━━\u001b[0m\u001b[37m\u001b[0m \u001b[1m233s\u001b[0m 922ms/step - accuracy: 0.9352 - loss: 0.9514 - val_accuracy: 0.9678 - val_loss: 0.2171\n",
      "Epoch 2/10\n",
      "\u001b[1m250/250\u001b[0m \u001b[32m━━━━━━━━━━━━━━━━━━━━\u001b[0m\u001b[37m\u001b[0m \u001b[1m235s\u001b[0m 941ms/step - accuracy: 0.9650 - loss: 0.2219 - val_accuracy: 0.9700 - val_loss: 0.1809\n",
      "Epoch 3/10\n",
      "\u001b[1m250/250\u001b[0m \u001b[32m━━━━━━━━━━━━━━━━━━━━\u001b[0m\u001b[37m\u001b[0m \u001b[1m224s\u001b[0m 895ms/step - accuracy: 0.9697 - loss: 0.1737 - val_accuracy: 0.9751 - val_loss: 0.1343\n",
      "Epoch 4/10\n",
      "\u001b[1m250/250\u001b[0m \u001b[32m━━━━━━━━━━━━━━━━━━━━\u001b[0m\u001b[37m\u001b[0m \u001b[1m219s\u001b[0m 877ms/step - accuracy: 0.9759 - loss: 0.1229 - val_accuracy: 0.9797 - val_loss: 0.0969\n",
      "Epoch 5/10\n",
      "\u001b[1m250/250\u001b[0m \u001b[32m━━━━━━━━━━━━━━━━━━━━\u001b[0m\u001b[37m\u001b[0m \u001b[1m211s\u001b[0m 844ms/step - accuracy: 0.9826 - loss: 0.0843 - val_accuracy: 0.9844 - val_loss: 0.0688\n",
      "Epoch 6/10\n",
      "\u001b[1m250/250\u001b[0m \u001b[32m━━━━━━━━━━━━━━━━━━━━\u001b[0m\u001b[37m\u001b[0m \u001b[1m208s\u001b[0m 834ms/step - accuracy: 0.9874 - loss: 0.0592 - val_accuracy: 0.9883 - val_loss: 0.0509\n",
      "Epoch 7/10\n",
      "\u001b[1m250/250\u001b[0m \u001b[32m━━━━━━━━━━━━━━━━━━━━\u001b[0m\u001b[37m\u001b[0m \u001b[1m212s\u001b[0m 847ms/step - accuracy: 0.9904 - loss: 0.0445 - val_accuracy: 0.9916 - val_loss: 0.0376\n",
      "Epoch 8/10\n",
      "\u001b[1m250/250\u001b[0m \u001b[32m━━━━━━━━━━━━━━━━━━━━\u001b[0m\u001b[37m\u001b[0m \u001b[1m217s\u001b[0m 869ms/step - accuracy: 0.9925 - loss: 0.0351 - val_accuracy: 0.9935 - val_loss: 0.0296\n",
      "Epoch 9/10\n",
      "\u001b[1m250/250\u001b[0m \u001b[32m━━━━━━━━━━━━━━━━━━━━\u001b[0m\u001b[37m\u001b[0m \u001b[1m213s\u001b[0m 852ms/step - accuracy: 0.9942 - loss: 0.0270 - val_accuracy: 0.9952 - val_loss: 0.0229\n",
      "Epoch 10/10\n",
      "\u001b[1m250/250\u001b[0m \u001b[32m━━━━━━━━━━━━━━━━━━━━\u001b[0m\u001b[37m\u001b[0m \u001b[1m211s\u001b[0m 845ms/step - accuracy: 0.9952 - loss: 0.0218 - val_accuracy: 0.9962 - val_loss: 0.0184\n"
     ]
    }
   ],
   "source": [
    "# Creating the Model\n",
    "hist=model.fit([encoder_input,decoder_input],decoder_output,epochs=10,validation_split=0.2,batch_size=64)"
   ]
  },
  {
   "cell_type": "code",
   "execution_count": 84,
   "metadata": {},
   "outputs": [
    {
     "data": {
      "text/plain": [
       "<matplotlib.legend.Legend at 0x22688eaf770>"
      ]
     },
     "execution_count": 84,
     "metadata": {},
     "output_type": "execute_result"
    },
    {
     "data": {
      "image/png": "[encoded data removed]",
      "text/plain": [
       "<Figure size 640x480 with 1 Axes>"
      ]
     },
     "metadata": {},
     "output_type": "display_data"
    }
   ],
   "source": [
    "# Plotting the Val Accuracy of the Model\n",
    "\n",
    "plt.plot(hist.history['val_accuracy'],label = 'val_acc')\n",
    "plt.plot(hist.history['accuracy'],label = 'accuracy')\n",
    "plt.legend()"
   ]
  },
  {
   "cell_type": "code",
   "execution_count": 85,
   "metadata": {},
   "outputs": [
    {
     "data": {
      "text/plain": [
       "<matplotlib.legend.Legend at 0x226f56c0d10>"
      ]
     },
     "execution_count": 85,
     "metadata": {},
     "output_type": "execute_result"
    },
    {
     "data": {
      "image/png": "[encoded data removed]",
      "text/plain": [
       "<Figure size 640x480 with 1 Axes>"
      ]
     },
     "metadata": {},
     "output_type": "display_data"
    }
   ],
   "source": [
    "# Plotting the Val Loss matrix\n",
    "\n",
    "plt.plot(hist.history['val_loss'],label = 'val_loss')\n",
    "plt.plot(hist.history['loss'],label = 'loss')\n",
    "plt.legend()"
   ]
  },
  {
   "cell_type": "code",
   "execution_count": 86,
   "metadata": {},
   "outputs": [],
   "source": [
    "# Saving the Prediction Model\n",
    "import pickle\n",
    "\n",
    "pickle.dump(model,open(\"English_Hindi_Translate.sav\",'wb'))"
   ]
  },
  {
   "cell_type": "markdown",
   "metadata": {},
   "source": [
    "# Creating the Inference model."
   ]
  },
  {
   "cell_type": "code",
   "execution_count": 87,
   "metadata": {},
   "outputs": [],
   "source": [
    "# Encoding the imput place holder\n",
    "encoder_model=Model(encoder_input_placeholder,encoder_states)"
   ]
  },
  {
   "cell_type": "code",
   "execution_count": null,
   "metadata": {},
   "outputs": [],
   "source": [
    "# Decoder for prediction (one input at a time)\n",
    "\n",
    "decoder_inital_h=Input(shape=(Latent_dim,))  # This initialize the hidden states of LSTM \n",
    "decoder_inital_c=Input(shape=(Latent_dim,))  # This initialize the Cell states of LSTM \n",
    "\n",
    "decoder_initial_states=[decoder_inital_h,decoder_inital_c] # This initialize the decoder status\n",
    "\n",
    "decoder_input_single=Input(shape=(1,))       # It will take single input                       \n",
    "decoder_embedding_single=decoder_embedding(decoder_input_single) # This is embedding the words for finding the relationship between the words. \n",
    "decoder_outputs_x,h,c=decoder_lstm(decoder_embedding_single,initial_state=decoder_initial_states) # This give output of LSTM for the current time step , hidden state and cell state\n",
    "\n",
    "decoder_states=[h,c] # Storing that state\n",
    "\n",
    "decoder_output=decoder_dense(decoder_outputs_x) # This apply dense layer to the output of the LSTM.\n",
    "\n",
    "decoder_model=Model([decoder_input_single]  +  decoder_initial_states, \n",
    "                    [decoder_output]  +  decoder_states\n",
    "                   )  # The model takes as input the decoder input token and the initial states, and it outputs the decoder output along with the final states."
   ]
  },
  {
   "cell_type": "code",
   "execution_count": 89,
   "metadata": {},
   "outputs": [],
   "source": [
    "idx2word_output={v:k for k,v in word2idx_output.items()}"
   ]
  },
  {
   "cell_type": "code",
   "execution_count": 90,
   "metadata": {},
   "outputs": [],
   "source": [
    "def decode_sequence(sequence):\n",
    "    states_value=encoder_model.predict(sequence,verbose=0)     # context vector:-will return [h,c]\n",
    "\n",
    "    target_seq=np.zeros((1,1))\n",
    "    target_seq[0,0]=word2idx_output['<sos>']    #First input to decoder\n",
    "\n",
    "    eos=word2idx_output['<eos>']\n",
    "\n",
    "    output_sequence=[]\n",
    "\n",
    "    for _ in range(max_seq_len):\n",
    "        output_token,h,c=decoder_model.predict([target_seq]+states_value,verbose=0)\n",
    "\n",
    "        idx=np.argmax(output_token[0,0,:])\n",
    "        \n",
    "        if idx==eos:                       # if the predicted token is <eos>\n",
    "            break\n",
    "\n",
    "        if idx>0:\n",
    "            output_sequence.append(idx2word_output[idx])\n",
    "\n",
    "        target_seq[0,0]=idx\n",
    "\n",
    "        states_value=[h,c]\n",
    "    \n",
    "    return ' '.join(output_sequence)\n"
   ]
  },
  {
   "cell_type": "code",
   "execution_count": 91,
   "metadata": {},
   "outputs": [
    {
     "name": "stdout",
     "output_type": "stream",
     "text": [
      "------------------\n",
      "input text: _ Auto complete insert\n",
      "real output स्वतःपूर्ण\n",
      "predicted output: स्वतः पूर्ण घुसाएँ\n",
      "------------------\n",
      "input text: Rows\n",
      "real output पंक्तियां\n",
      "predicted output: पंक्तियां\n",
      "------------------\n",
      "input text: Add _ Package\n",
      "real output जोड़ें पैकेज\n",
      "predicted output: जोड़ें पैकेज\n",
      "------------------\n",
      "input text: ten of clubs\n",
      "real output चिड़ी का दहला\n",
      "predicted output: चिड़ी का दहला\n"
     ]
    }
   ],
   "source": [
    "i=0\n",
    "while i<4:\n",
    "    j=np.random.choice(len(encoder_input))\n",
    "    input_seq=encoder_input[j:j+1]\n",
    "    seq=decode_sequence(input_seq)\n",
    "    print('------------------')\n",
    "    print('input text:',input_text[j])\n",
    "    print('real output',translation[j])\n",
    "    print('predicted output:',seq)\n",
    "    i+=1"
   ]
  },
  {
   "cell_type": "code",
   "execution_count": null,
   "metadata": {},
   "outputs": [],
   "source": []
  },
  {
   "cell_type": "code",
   "execution_count": null,
   "metadata": {},
   "outputs": [],
   "source": []
  }
 ],
 "metadata": {
  "kernelspec": {
   "display_name": "Python 3",
   "language": "python",
   "name": "python3"
  },
  "language_info": {
   "codemirror_mode": {
    "name": "ipython",
    "version": 3
   },
   "file_extension": ".py",
   "mimetype": "text/x-python",
   "name": "python",
   "nbconvert_exporter": "python",
   "pygments_lexer": "ipython3",
   "version": "3.12.5"
  }
 },
 "nbformat": 4,
 "nbformat_minor": 2
}
